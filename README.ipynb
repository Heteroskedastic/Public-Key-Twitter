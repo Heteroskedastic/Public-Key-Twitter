{
 "cells": [
  {
   "cell_type": "markdown",
   "metadata": {},
   "source": [
    "# Send Encrypted Messages\n",
    "## Using Public Key encryption\n",
    "## Via twitter\n",
    "\n",
    "Public-key, asymmetric security.\n",
    "\n",
    "You need to setup Twitter OAuth 1.0a and get a;\n",
    "\n",
    "Consumer key, Consumer secret, access_tok and access_token_sec\n",
    "\n",
    "https://dev.twitter.com/oauth/application-only"
   ]
  },
  {
   "cell_type": "markdown",
   "metadata": {},
   "source": [
    "### Getting Setup:"
   ]
  },
  {
   "cell_type": "code",
   "execution_count": 32,
   "metadata": {
    "collapsed": false
   },
   "outputs": [],
   "source": [
    "# First we need to make a Public, Private key pair. This can be slow\n",
    "from pktwitter.key_tools import make_key_pair\n",
    "Bob_key_pair = make_key_pair()\n",
    "Alice_key_pair = make_key_pair()"
   ]
  },
  {
   "cell_type": "markdown",
   "metadata": {},
   "source": [
    "Bob and Alice need to add their public key to the end of their twitter description (profile) so that others can send them messages.\n",
    "\n",
    "Check out https://twitter.com/HeteroT1 as an example."
   ]
  },
  {
   "cell_type": "code",
   "execution_count": 33,
   "metadata": {
    "collapsed": false
   },
   "outputs": [
    {
     "name": "stdout",
     "output_type": "stream",
     "text": [
      "Bob needs this posted to be able to recieve a message.\n",
      "|TPK|ýHҔӢĺƸĆĘĜȜŁƖřǜҦψĚήƼǰĞÊĜķĜɕ|SӏɹÔȪӬȴöÈϴԳĘĊκǟϴɡԁϭƑӞƘëӁɛҀ|íɄҢĳχӿԉīҵȢʋΓƱʘжŀʌɁúĳŘäԫèɠՊ|ƍ\n",
      "\n",
      "Alice needs to do the same with her public key\n",
      "|TPK|äЅɹŔԪÞԴԙԗԚхκèϯɘȩԬҪԺΥʡѽϜǛƆƔ|ÁĂӤԟҸӭɤКƜέӁӿаХцĝåңjƚȮɇĬϻѾì|ÐԶљƕƸΩļƱͿĴӍɷӘιȕпŬҩĽoѩÂǿɷĀĢ|ƍ\n",
      "\n",
      "Bob's Private key (112007804882173299121139143390180265204327822609141583302347145063143170143447, 18863483073404892414106061653962139125595330653459913646260878267095849453792, 53286256357958651503031828245325755124893030853022928006671142211559658595294, 256)\n",
      "\n",
      "Alice's Private key (88669483199954082963937935938733595092648450403956826969574522789629326249263, 54117884943840893462690271582849911712701734144089819035269408433159659790096, 13688856604426814509611275635259973125320508092662214302334741603252942714275, 256)\n"
     ]
    }
   ],
   "source": [
    "print('Bob needs this posted to be able to recieve a message.')\n",
    "print(Bob_key_pair['PublicKey'] + '\\n')\n",
    "\n",
    "print('Alice needs to do the same with her public key')\n",
    "print(Alice_key_pair['PublicKey'] + '\\n')\n",
    "\n",
    "# Bob and Alice might want to save there private keys to a file or store them somewhere safe. \n",
    "# The keys as a set of 3 long integers and a bit value\n",
    "print(\"Bob's Private key \" + str(Bob_key_pair['PrivateKey']) + '\\n')\n",
    "print(\"Alice's Private key \" + str(Alice_key_pair['PrivateKey']))"
   ]
  },
  {
   "cell_type": "markdown",
   "metadata": {},
   "source": [
    "### Twitter API key\n",
    "You need a twitter api key. I load a set below you need your own. Here are instructios showing how to.\n",
    "https://themepacific.com/how-to-generate-api-key-consumer-token-access-key-for-twitter-oauth/994/"
   ]
  },
  {
   "cell_type": "code",
   "execution_count": 23,
   "metadata": {
    "collapsed": false
   },
   "outputs": [],
   "source": [
    "import configparser\n",
    "config = configparser.ConfigParser()\n",
    "config.read('pktwitter/tests/user_data.ini')\n",
    "consumer_key = config['HeteroT1']['consumer_key']\n",
    "consumer_sec = config['HeteroT1']['consumer_sec']\n",
    "access_tok = config['HeteroT1']['access_tok']\n",
    "access_token_sec = config['HeteroT1']['access_token_sec']"
   ]
  },
  {
   "cell_type": "markdown",
   "metadata": {},
   "source": [
    "First we need our twitter connection object."
   ]
  },
  {
   "cell_type": "code",
   "execution_count": 24,
   "metadata": {
    "collapsed": false
   },
   "outputs": [],
   "source": [
    "from twython import Twython\n",
    "bobs_twitter = Twython(consumer_key, consumer_sec, access_tok, access_token_sec)"
   ]
  },
  {
   "cell_type": "markdown",
   "metadata": {},
   "source": [
    "## Sending a message\n",
    "### Get Public Key\n",
    "If Bob wants to send a message to Alice he only needs Alice's public key. Lets get that. (we are using the twitter account \"HeteroT2\" as Alice)\n",
    "The key is compressed so we need to convert it to a key that can be used by our elgamal implementation."
   ]
  },
  {
   "cell_type": "code",
   "execution_count": 25,
   "metadata": {
    "collapsed": false
   },
   "outputs": [
    {
     "name": "stdout",
     "output_type": "stream",
     "text": [
      "Alice's cmpressed public key is: \n",
      "|TPK|ËԈӦŏԨՌƍȲƃǍңҎƩϨҾðĵƹӣUԭԍъrĈŬ|oƫíȬԐöȜЁŴTjȉƮȌǊԢŏpưĩӵϠՓҪƺՍ|aȱόĠԯЮчјϾŀЋÁĺДїΥғԜԡӹŋʛïƧóȰ|ƍ\n",
      "You can see this on twitter at: https://twitter.com/heteroT2\n",
      "\n",
      "The publickey used by elgamal is made using assemble_publickey()\n",
      "The public key object is alice_pub: <pktwitter.elgamal2.PublicKey object at 0x10497c630>\n",
      "The public key has the vlaues\n",
      "p: 64920886194952987256412246312819798284641846100168300883020957925738043123223\n",
      "g: 40286097406928106390665231019035371289374310946194041291156901633994826301988\n",
      "h: 26411613147959710735752662179675054173684751574803940945905190516099282103410\n",
      "iNumBits: 256\n"
     ]
    }
   ],
   "source": [
    "from pktwitter.key_tools import get_public_key, assemble_publickey\n",
    "Alice = 'HeteroT2'\n",
    "alice_pub_comp = get_public_key(bobs_twitter, Alice)\n",
    "print(\"Alice's cmpressed public key is: \\n{}\".format(alice_pub_comp))\n",
    "print(\"You can see this on twitter at: https://twitter.com/heteroT2\")\n",
    "\n",
    "alice_pub = assemble_publickey(alice_pub_comp)\n",
    "print(\"\\nThe publickey used by elgamal is made using assemble_publickey()\")\n",
    "print(\"The public key object is alice_pub: {}\".format(alice_pub))\n",
    "print(\"The public key has the vlaues\\np: {}\\ng: {}\\nh: {}\\niNumBits: {}\".format(alice_pub.p, alice_pub.g, alice_pub.h, alice_pub.iNumBits))"
   ]
  },
  {
   "cell_type": "markdown",
   "metadata": {
    "collapsed": true
   },
   "source": [
    "## Encrypting the message\n",
    "The message gets long when it is encrypted so you can't send 140 characters."
   ]
  },
  {
   "cell_type": "code",
   "execution_count": 26,
   "metadata": {
    "collapsed": false
   },
   "outputs": [
    {
     "name": "stdout",
     "output_type": "stream",
     "text": [
      "The cypertext is:\n",
      "HϷŁΚŽΛkԵĬϕՄŲńΎԲωϜĠѦҙӘԴҨȿĤʡ|PƌδҹǴͰϵóГǰԌηƘMΈǕҚrұɮѤŎǣԃǧԭ\n"
     ]
    }
   ],
   "source": [
    "from pktwitter.messaging import encrypt_message\n",
    "plaintext = \"Hello Twitter\"\n",
    "cyphertext = encrypt_message(plaintext, alice_pub)\n",
    "print(\"The cypertext is:\\n{}\".format(cyphertext))"
   ]
  },
  {
   "cell_type": "markdown",
   "metadata": {},
   "source": [
    "## Sending a message\n",
    "You may send as a direct message or as a status update. While the direct message route has the advantage of the recepient knowing the message is for them, and the data contained in the message may only be seen by the recepient, it also allows others to observe the metadata that there is direct interaction between the sender and recepient. With a public status update, there is no metadata with regards to whom the message is for. The recepient has to be expecting the message or just randomly try to decrypt messages. "
   ]
  },
  {
   "cell_type": "code",
   "execution_count": 27,
   "metadata": {
    "collapsed": false
   },
   "outputs": [
    {
     "name": "stdout",
     "output_type": "stream",
     "text": [
      "message sent \n",
      "message sent \n",
      "message -  HϷŁΚŽΛkԵĬϕՄŲńΎԲωϜĠѦҙӘԴҨȿĤʡ|PƌδҹǴͰϵóГǰԌηƘMΈǕҚrұɮѤŎǣԃǧԭ\n"
     ]
    }
   ],
   "source": [
    "from pktwitter.messaging import send_direct_messages, send_status_update\n",
    "from twython import Twython\n",
    "\n",
    "bobs_twitter = Twython(consumer_key, consumer_sec, access_tok, access_token_sec)\n",
    "\n",
    "send_direct_messages(bobs_twitter, 'HeteroT2', cyphertext)\n",
    "\n",
    "send_status_update(bobs_twitter, cyphertext)"
   ]
  },
  {
   "cell_type": "markdown",
   "metadata": {},
   "source": [
    "## Reading a message\n",
    "The simplest way to decrypt a messages is to copy the message from twitter.\n",
    "Alica has stored her private key, this could be a ini file of just a text file."
   ]
  },
  {
   "cell_type": "code",
   "execution_count": 28,
   "metadata": {
    "collapsed": false
   },
   "outputs": [
    {
     "ename": "UnicodeDecodeError",
     "evalue": "'utf-16-le' codec can't decode bytes in position 28-29: illegal UTF-16 surrogate",
     "output_type": "error",
     "traceback": [
      "\u001b[0;31m---------------------------------------------------------------------------\u001b[0m",
      "\u001b[0;31mUnicodeDecodeError\u001b[0m                        Traceback (most recent call last)",
      "\u001b[0;32m<ipython-input-28-d4e800f7ac47>\u001b[0m in \u001b[0;36m<module>\u001b[0;34m()\u001b[0m\n\u001b[1;32m     11\u001b[0m \u001b[0malice_private\u001b[0m \u001b[0;34m=\u001b[0m \u001b[0massemble_privatekey\u001b[0m\u001b[0;34m(\u001b[0m\u001b[0malice_key_file\u001b[0m\u001b[0;34m)\u001b[0m\u001b[0;34m\u001b[0m\u001b[0m\n\u001b[1;32m     12\u001b[0m \u001b[0;34m\u001b[0m\u001b[0m\n\u001b[0;32m---> 13\u001b[0;31m \u001b[0mdecryptedtext\u001b[0m \u001b[0;34m=\u001b[0m \u001b[0mdecrypt_message\u001b[0m\u001b[0;34m(\u001b[0m\u001b[0malice_private\u001b[0m\u001b[0;34m,\u001b[0m \u001b[0mtwitter_cyphertext\u001b[0m\u001b[0;34m)\u001b[0m\u001b[0;34m\u001b[0m\u001b[0m\n\u001b[0m\u001b[1;32m     14\u001b[0m \u001b[0mprint\u001b[0m\u001b[0;34m(\u001b[0m\u001b[0;34m\"The decrypted text is:\\n{}\"\u001b[0m\u001b[0;34m.\u001b[0m\u001b[0mformat\u001b[0m\u001b[0;34m(\u001b[0m\u001b[0mdecryptedtext\u001b[0m\u001b[0;34m)\u001b[0m\u001b[0;34m)\u001b[0m\u001b[0;34m\u001b[0m\u001b[0m\n",
      "\u001b[0;32m/Users/vincentdavis/VersionControl/public_key_twitter/pktwitter/messaging.py\u001b[0m in \u001b[0;36mdecrypt_message\u001b[0;34m(privatekey, cypher_compressed)\u001b[0m\n\u001b[1;32m     19\u001b[0m     \u001b[0;31m# try to decrypt message\u001b[0m\u001b[0;34m\u001b[0m\u001b[0;34m\u001b[0m\u001b[0m\n\u001b[1;32m     20\u001b[0m     \u001b[0mcypher_int\u001b[0m \u001b[0;34m=\u001b[0m \u001b[0;34m' '\u001b[0m\u001b[0;34m.\u001b[0m\u001b[0mjoin\u001b[0m\u001b[0;34m(\u001b[0m\u001b[0mstr\u001b[0m\u001b[0;34m(\u001b[0m\u001b[0mkey_expand\u001b[0m\u001b[0;34m(\u001b[0m\u001b[0mc\u001b[0m\u001b[0;34m)\u001b[0m\u001b[0;34m)\u001b[0m \u001b[0;32mfor\u001b[0m \u001b[0mc\u001b[0m \u001b[0;32min\u001b[0m \u001b[0mcypher_compressed\u001b[0m\u001b[0;34m.\u001b[0m\u001b[0msplit\u001b[0m\u001b[0;34m(\u001b[0m\u001b[0;34m'|'\u001b[0m\u001b[0;34m)\u001b[0m\u001b[0;34m)\u001b[0m \u001b[0;34m+\u001b[0m \u001b[0;34m' '\u001b[0m\u001b[0;34m\u001b[0m\u001b[0m\n\u001b[0;32m---> 21\u001b[0;31m     \u001b[0;32mreturn\u001b[0m \u001b[0mdecrypt\u001b[0m\u001b[0;34m(\u001b[0m\u001b[0mprivatekey\u001b[0m\u001b[0;34m,\u001b[0m \u001b[0mcypher_int\u001b[0m\u001b[0;34m)\u001b[0m\u001b[0;34m\u001b[0m\u001b[0m\n\u001b[0m\u001b[1;32m     22\u001b[0m \u001b[0;34m\u001b[0m\u001b[0m\n\u001b[1;32m     23\u001b[0m \u001b[0;34m\u001b[0m\u001b[0m\n",
      "\u001b[0;32m/Users/vincentdavis/VersionControl/public_key_twitter/pktwitter/elgamal2.py\u001b[0m in \u001b[0;36mdecrypt\u001b[0;34m(key, cipher)\u001b[0m\n\u001b[1;32m    351\u001b[0m         \u001b[0mplaintext\u001b[0m\u001b[0;34m.\u001b[0m\u001b[0mappend\u001b[0m\u001b[0;34m(\u001b[0m\u001b[0mplain\u001b[0m\u001b[0;34m)\u001b[0m\u001b[0;34m\u001b[0m\u001b[0m\n\u001b[1;32m    352\u001b[0m     \u001b[0;31m# print(plaintext)\u001b[0m\u001b[0;34m\u001b[0m\u001b[0;34m\u001b[0m\u001b[0m\n\u001b[0;32m--> 353\u001b[0;31m     \u001b[0mdecryptedText\u001b[0m \u001b[0;34m=\u001b[0m \u001b[0mdecode\u001b[0m\u001b[0;34m(\u001b[0m\u001b[0mplaintext\u001b[0m\u001b[0;34m,\u001b[0m \u001b[0mkey\u001b[0m\u001b[0;34m.\u001b[0m\u001b[0miNumBits\u001b[0m\u001b[0;34m)\u001b[0m\u001b[0;34m\u001b[0m\u001b[0m\n\u001b[0m\u001b[1;32m    354\u001b[0m \u001b[0;34m\u001b[0m\u001b[0m\n\u001b[1;32m    355\u001b[0m     \u001b[0;31m# remove trailing null bytes\u001b[0m\u001b[0;34m\u001b[0m\u001b[0;34m\u001b[0m\u001b[0m\n",
      "\u001b[0;32m/Users/vincentdavis/VersionControl/public_key_twitter/pktwitter/elgamal2.py\u001b[0m in \u001b[0;36mdecode\u001b[0;34m(aiPlaintext, iNumBits)\u001b[0m\n\u001b[1;32m    282\u001b[0m     \u001b[0;31m# print(bytes_array)\u001b[0m\u001b[0;34m\u001b[0m\u001b[0;34m\u001b[0m\u001b[0m\n\u001b[1;32m    283\u001b[0m     \u001b[0;31m# print(bytearray(b for b in bytes_array))\u001b[0m\u001b[0;34m\u001b[0m\u001b[0;34m\u001b[0m\u001b[0m\n\u001b[0;32m--> 284\u001b[0;31m     \u001b[0mdecodedText\u001b[0m \u001b[0;34m=\u001b[0m \u001b[0mbytearray\u001b[0m\u001b[0;34m(\u001b[0m\u001b[0mb\u001b[0m \u001b[0;32mfor\u001b[0m \u001b[0mb\u001b[0m \u001b[0;32min\u001b[0m \u001b[0mbytes_array\u001b[0m\u001b[0;34m)\u001b[0m\u001b[0;34m.\u001b[0m\u001b[0mdecode\u001b[0m\u001b[0;34m(\u001b[0m\u001b[0;34m'utf-16'\u001b[0m\u001b[0;34m)\u001b[0m\u001b[0;34m\u001b[0m\u001b[0m\n\u001b[0m\u001b[1;32m    285\u001b[0m     \u001b[0;31m# decodedText = bytearray(b for b in bytes_array).decode('ascii')\u001b[0m\u001b[0;34m\u001b[0m\u001b[0;34m\u001b[0m\u001b[0m\n\u001b[1;32m    286\u001b[0m \u001b[0;34m\u001b[0m\u001b[0m\n",
      "\u001b[0;31mUnicodeDecodeError\u001b[0m: 'utf-16-le' codec can't decode bytes in position 28-29: illegal UTF-16 surrogate"
     ]
    }
   ],
   "source": [
    "from pktwitter.key_tools import assemble_privatekey\n",
    "from pktwitter.messaging import decrypt_message\n",
    "\n",
    "twitter_cyphertext = \"hɃՋӕɨġȺͻѼҡɯѦiФԒʘQEÍЀђcƬҺϐӇ|WʨÅƷɠйάԶΈťӃıӞЍȟɗРҮђϲİӗĜƈŧβ\"\n",
    "\n",
    "alice_key_file = (64920886194952987256412246312819798284641846100168300883020957925738043123223,\n",
    "                  40286097406928106390665231019035371289374310946194041291156901633994826301988,\n",
    "                  12451816743310384350839455290582814769468821404604129753069361124628871636399,\n",
    "                  256)\n",
    "\n",
    "alice_private = assemble_privatekey(alice_key_file)\n",
    "\n",
    "decryptedtext = decrypt_message(alice_private, twitter_cyphertext)\n",
    "print(\"The decrypted text is:\\n{}\".format(decryptedtext))"
   ]
  },
  {
   "cell_type": "code",
   "execution_count": 29,
   "metadata": {
    "collapsed": false
   },
   "outputs": [
    {
     "data": {
      "text/plain": [
       "'|TPK|ËԈӦŏԨՌƍȲƃǍңҎƩϨҾðĵƹӣUԭԍъrĈŬ|oƫíȬԐöȜЁŴTjȉƮȌǊԢŏpưĩӵϠՓҪƺՍ|aȱόĠԯЮчјϾŀЋÁĺДїΥғԜԡӹŋʛïƧóȰ|ƍ'"
      ]
     },
     "execution_count": 29,
     "metadata": {},
     "output_type": "execute_result"
    }
   ],
   "source": [
    "from pktwitter.key_tools import key_compress\n",
    "piv = (64920886194952987256412246312819798284641846100168300883020957925738043123223,\n",
    "                         40286097406928106390665231019035371289374310946194041291156901633994826301988,\n",
    "                         26411613147959710735752662179675054173684751574803940945905190516099282103410,\n",
    "                         256\n",
    "                         )\n",
    "'|TPK|' + '|'.join(key_compress(n) for n in priv)"
   ]
  },
  {
   "cell_type": "code",
   "execution_count": null,
   "metadata": {
    "collapsed": true
   },
   "outputs": [],
   "source": [
    "|TPK|ËԈӦŏԨՌƍȲƃǍңҎƩϨҾðĵƹӣUԭԍъrĈŬ|oƫíȬԐöȜЁŴTjȉƮȌǊԢŏpưĩӵϠՓҪƺՍ|aȱόĠԯЮчјϾŀЋÁĺДїΥғԜԡӹŋʛïƧóȰ|ƍ"
   ]
  }
 ],
 "metadata": {
  "kernelspec": {
   "display_name": "Python 3",
   "language": "python",
   "name": "python3"
  },
  "language_info": {
   "codemirror_mode": {
    "name": "ipython",
    "version": 3
   },
   "file_extension": ".py",
   "mimetype": "text/x-python",
   "name": "python",
   "nbconvert_exporter": "python",
   "pygments_lexer": "ipython3",
   "version": "3.5.1"
  }
 },
 "nbformat": 4,
 "nbformat_minor": 0
}
