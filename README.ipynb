{
 "cells": [
  {
   "cell_type": "markdown",
   "metadata": {},
   "source": [
    "# Send Encrypted Messages\n",
    "# Using Public Key encryption\n",
    "# Via twitter\n",
    "\n",
    "Public-key, asymmetric security.\n",
    "\n",
    "You need to setup Twitter OAuth 1.0a and get a;\n",
    "\n",
    "Consumer key, Consumer secret, access_tok and access_token_sec\n",
    "\n",
    "https://dev.twitter.com/oauth/application-only"
   ]
  },
  {
   "cell_type": "markdown",
   "metadata": {},
   "source": [
    "* Getting Setup:"
   ]
  },
  {
   "cell_type": "code",
   "execution_count": 2,
   "metadata": {
    "collapsed": false
   },
   "outputs": [],
   "source": [
    "# First we need to make a Public, Private key pair. This can be slow\n",
    "from key_tools import make_key_pair\n",
    "Bob_key_pair = make_key_pair()\n",
    "Alice_key_pair = make_key_pair()"
   ]
  },
  {
   "cell_type": "markdown",
   "metadata": {},
   "source": [
    "Bob would add his public key to the end of his twitter description (profile).\n",
    "\n",
    "Bob needs this posted so that others can send him a message.\n",
    "\n",
    "Check out https://twitter.com/HeteroT1 as an example."
   ]
  },
  {
   "cell_type": "code",
   "execution_count": 7,
   "metadata": {
    "collapsed": false
   },
   "outputs": [
    {
     "name": "stdout",
     "output_type": "stream",
     "text": [
      "Bob needs this posted to be able to recieve a message.\n",
      "|TPK|òӔȜѾҺӏϾԁƱÕʪӡʒӓϼԍǳŁúԼƴmͿԈuҗ|UύӜǣΜϫՔВȞɅĳҎѪЍԟгǙŗĿXʎîôĵԐȍ|bӢƾϨһδſǝϯÌǳǕϥʬΠȯèĽjϴŘƙԿҧҴϤ|ƍ\n",
      "\n",
      "Alice needs to do the same with her public key\n",
      "|TPK|ÚʆȟԓôԇЛȐϴĶǘӇѣÖùüëϾԘůҼFģҟƦĜ|ÖҿӱûĠƘƀӸĴՒƍТЮԒїʮԺҮÈǫĹЗǼYчɘ|RĹĆơЭΐýήƋЬӔÑͷԴʘʮΫƔĠͲѻɎϫÍзҳ|ƍ\n",
      "\n",
      "Bob's Private key (102868390790842863662913292074531881508867660925349180109971295038546920046807, 20614876334566644995682392431166798770677943715324202178023504098104168928375, 84275050736146186397178796120797158790534493147396514872304002054560282793562, 256)\n",
      "\n",
      "Alice's Private key (78496393931104919691378653169323855763075108111095662936226844005150815281143, 75847897110147267243904167993256698710930751535969830061342172687358024735450, 66104726730320555867741734933036375866636683261149248409900361797215966371434, 256)\n"
     ]
    }
   ],
   "source": [
    "print('Bob needs this posted to be able to recieve a message.')\n",
    "print(Bob_key_pair['PublicKey'] + '\\n')\n",
    "\n",
    "print('Alice needs to do the same with her public key')\n",
    "print(Alice_key_pair['PublicKey'] + '\\n')\n",
    "\n",
    "# Bob and Alice might want to save there private keys to a file or store them somewhere safe. \n",
    "# The keys as a set of 3 long integers and a bit value\n",
    "print(\"Bob's Private key \" + str(Bob_key_pair['PrivateKey']) + '\\n')\n",
    "print(\"Alice's Private key \" + str(Alice_key_pair['PrivateKey']))"
   ]
  },
  {
   "cell_type": "code",
   "execution_count": null,
   "metadata": {
    "collapsed": true
   },
   "outputs": [],
   "source": []
  },
  {
   "cell_type": "code",
   "execution_count": null,
   "metadata": {
    "collapsed": true
   },
   "outputs": [],
   "source": [
    "import configparser\n",
    "config = configparser.ConfigParser()\n",
    "config.read('Tests/user_data.ini')\n",
    "consumer_key = config['HeteroT1']['consumer_key']\n",
    "consumer_sec = config['HeteroT1']['consumer_sec']\n",
    "access_tok = config['HeteroT1']['access_tok']\n",
    "access_token_sec = config['HeteroT1']['access_token_sec']"
   ]
  },
  {
   "cell_type": "markdown",
   "metadata": {},
   "source": [
    "* Sending a message\n",
    "(we load private twitter api keys for this example, you will need to get your own)"
   ]
  },
  {
   "cell_type": "code",
   "execution_count": 4,
   "metadata": {
    "collapsed": true
   },
   "outputs": [],
   "source": []
  },
  {
   "cell_type": "code",
   "execution_count": null,
   "metadata": {
    "collapsed": true
   },
   "outputs": [],
   "source": []
  },
  {
   "cell_type": "code",
   "execution_count": null,
   "metadata": {
    "collapsed": true
   },
   "outputs": [],
   "source": []
  },
  {
   "cell_type": "code",
   "execution_count": null,
   "metadata": {
    "collapsed": true
   },
   "outputs": [],
   "source": []
  },
  {
   "cell_type": "code",
   "execution_count": 67,
   "metadata": {
    "collapsed": false
   },
   "outputs": [
    {
     "name": "stdout",
     "output_type": "stream",
     "text": [
      "message --48997448021504017455184340401837874469938305467358856100675976423152540368952322324580607226539857282690339409821734871 13426278815314321208169682940226876888068725387942122113556937886801522671234998835763865715778551268221693081349124847 66772737387266368079305725581793745774446203745149518958140442149921293403293006448455854645822954178676646392430738253 45530500104900962602949089591919677251996519848409551539437219706438369345230366647488972997669260906251348189677371817 69595964890364372790375445383771952185870010336651889887275945004055381018089189018287273208996308702245873539925189803 7105676503089617002469990977504814081999931323480105409404747549446421730747329635909770395011350994529000158313782421 --\n",
      "Compressed is --f皖䢁㹮伇劇Ł碲䎨㐎Ψ䕡뵌묟첛쪦罩蝬䬝춑왼챍孲ᅠ봤軟|I鍠姱꽤霍酬蹇䙏㪮ⱂ䔔잴㜕莜圂몙罰솘ϓヸ瑣䌉赆㸣鬖囹|q좫ϛ搾瘼璺蓺媠냶觳ᱩ余䁦蔻뜞ଖ躥㣢巕黟탹柁અ誢ﶌ㙽|d䬛茝ꦈ兩聎ᓈ渶Ⲷ蓼忟㺎㽔ず㡠大분鲜㪂䄅ລ聶츦논섬㵻|sꋀ祛ㆵ䁣涨涻ᎀ㸹腿胘彗偏뉃푨峚엁க豭堔ᩓ翻䅁ᖍ梖曱|E蟶ﷅ뒠刺뚒ꚲ澡藯룰ऴ촂郮좤Ͱ뱫高羀䜎Ⲕ砩Ầ끰엝쉎ㆲ|\n"
     ]
    },
    {
     "ename": "TwythonError",
     "evalue": "Twitter API returned a 403 (Forbidden), Status is over 140 characters.",
     "output_type": "error",
     "traceback": [
      "\u001b[0;31m---------------------------------------------------------------------------\u001b[0m",
      "\u001b[0;31mTwythonError\u001b[0m                              Traceback (most recent call last)",
      "\u001b[0;32m<ipython-input-67-b5ce8d80f40e>\u001b[0m in \u001b[0;36m<module>\u001b[0;34m()\u001b[0m\n\u001b[1;32m     38\u001b[0m \u001b[0;34m\u001b[0m\u001b[0m\n\u001b[1;32m     39\u001b[0m \u001b[0;34m\u001b[0m\u001b[0m\n\u001b[0;32m---> 40\u001b[0;31m \u001b[0msend_status_update\u001b[0m\u001b[0;34m(\u001b[0m\u001b[0mconsumer_key\u001b[0m\u001b[0;34m,\u001b[0m \u001b[0mconsumer_sec\u001b[0m\u001b[0;34m,\u001b[0m \u001b[0maccess_tok\u001b[0m\u001b[0;34m,\u001b[0m \u001b[0maccess_token_sec\u001b[0m\u001b[0;34m,\u001b[0m \u001b[0mmessage\u001b[0m\u001b[0;34m,\u001b[0m \u001b[0;34m'heterot1'\u001b[0m\u001b[0;34m,\u001b[0m \u001b[0mBob_piv\u001b[0m\u001b[0;34m)\u001b[0m\u001b[0;34m\u001b[0m\u001b[0m\n\u001b[0m",
      "\u001b[0;32m<ipython-input-67-b5ce8d80f40e>\u001b[0m in \u001b[0;36msend_status_update\u001b[0;34m(consumer_key, consumer_sec, access_tok, access_token_sec, message, reciever, Bob_piv)\u001b[0m\n\u001b[1;32m     34\u001b[0m     \u001b[0mcompressed\u001b[0m \u001b[0;34m=\u001b[0m \u001b[0mmessage_compress\u001b[0m\u001b[0;34m(\u001b[0m\u001b[0mciphertext\u001b[0m\u001b[0;34m)\u001b[0m\u001b[0;34m\u001b[0m\u001b[0m\n\u001b[1;32m     35\u001b[0m     \u001b[0mprint\u001b[0m\u001b[0;34m(\u001b[0m\u001b[0;34m\"Compressed is --\"\u001b[0m\u001b[0;34m+\u001b[0m\u001b[0mcompressed\u001b[0m\u001b[0;34m)\u001b[0m\u001b[0;34m\u001b[0m\u001b[0m\n\u001b[0;32m---> 36\u001b[0;31m     \u001b[0mtwitter\u001b[0m\u001b[0;34m.\u001b[0m\u001b[0mupdate_status\u001b[0m\u001b[0;34m(\u001b[0m\u001b[0mstatus\u001b[0m\u001b[0;34m=\u001b[0m\u001b[0mcompressed\u001b[0m\u001b[0;34m)\u001b[0m\u001b[0;34m\u001b[0m\u001b[0m\n\u001b[0m\u001b[1;32m     37\u001b[0m     \u001b[0mprint\u001b[0m\u001b[0;34m(\u001b[0m\u001b[0;34m\"message sent \"\u001b[0m\u001b[0;34m)\u001b[0m\u001b[0;34m\u001b[0m\u001b[0m\n\u001b[1;32m     38\u001b[0m \u001b[0;34m\u001b[0m\u001b[0m\n",
      "\u001b[0;32m/Users/vincentdavis/anaconda/envs/py35/lib/python3.5/site-packages/twython/endpoints.py\u001b[0m in \u001b[0;36mupdate_status\u001b[0;34m(self, **params)\u001b[0m\n\u001b[1;32m    105\u001b[0m \u001b[0;34m\u001b[0m\u001b[0m\n\u001b[1;32m    106\u001b[0m         \"\"\"\n\u001b[0;32m--> 107\u001b[0;31m         \u001b[0;32mreturn\u001b[0m \u001b[0mself\u001b[0m\u001b[0;34m.\u001b[0m\u001b[0mpost\u001b[0m\u001b[0;34m(\u001b[0m\u001b[0;34m'statuses/update'\u001b[0m\u001b[0;34m,\u001b[0m \u001b[0mparams\u001b[0m\u001b[0;34m=\u001b[0m\u001b[0mparams\u001b[0m\u001b[0;34m)\u001b[0m\u001b[0;34m\u001b[0m\u001b[0m\n\u001b[0m\u001b[1;32m    108\u001b[0m \u001b[0;34m\u001b[0m\u001b[0m\n\u001b[1;32m    109\u001b[0m     \u001b[0;32mdef\u001b[0m \u001b[0mretweet\u001b[0m\u001b[0;34m(\u001b[0m\u001b[0mself\u001b[0m\u001b[0;34m,\u001b[0m \u001b[0;34m**\u001b[0m\u001b[0mparams\u001b[0m\u001b[0;34m)\u001b[0m\u001b[0;34m:\u001b[0m\u001b[0;34m\u001b[0m\u001b[0m\n",
      "\u001b[0;32m/Users/vincentdavis/anaconda/envs/py35/lib/python3.5/site-packages/twython/api.py\u001b[0m in \u001b[0;36mpost\u001b[0;34m(self, endpoint, params, version)\u001b[0m\n\u001b[1;32m    267\u001b[0m     \u001b[0;32mdef\u001b[0m \u001b[0mpost\u001b[0m\u001b[0;34m(\u001b[0m\u001b[0mself\u001b[0m\u001b[0;34m,\u001b[0m \u001b[0mendpoint\u001b[0m\u001b[0;34m,\u001b[0m \u001b[0mparams\u001b[0m\u001b[0;34m=\u001b[0m\u001b[0;32mNone\u001b[0m\u001b[0;34m,\u001b[0m \u001b[0mversion\u001b[0m\u001b[0;34m=\u001b[0m\u001b[0;34m'1.1'\u001b[0m\u001b[0;34m)\u001b[0m\u001b[0;34m:\u001b[0m\u001b[0;34m\u001b[0m\u001b[0m\n\u001b[1;32m    268\u001b[0m         \u001b[0;34m\"\"\"Shortcut for POST requests via :class:`request`\"\"\"\u001b[0m\u001b[0;34m\u001b[0m\u001b[0m\n\u001b[0;32m--> 269\u001b[0;31m         \u001b[0;32mreturn\u001b[0m \u001b[0mself\u001b[0m\u001b[0;34m.\u001b[0m\u001b[0mrequest\u001b[0m\u001b[0;34m(\u001b[0m\u001b[0mendpoint\u001b[0m\u001b[0;34m,\u001b[0m \u001b[0;34m'POST'\u001b[0m\u001b[0;34m,\u001b[0m \u001b[0mparams\u001b[0m\u001b[0;34m=\u001b[0m\u001b[0mparams\u001b[0m\u001b[0;34m,\u001b[0m \u001b[0mversion\u001b[0m\u001b[0;34m=\u001b[0m\u001b[0mversion\u001b[0m\u001b[0;34m)\u001b[0m\u001b[0;34m\u001b[0m\u001b[0m\n\u001b[0m\u001b[1;32m    270\u001b[0m \u001b[0;34m\u001b[0m\u001b[0m\n\u001b[1;32m    271\u001b[0m     \u001b[0;32mdef\u001b[0m \u001b[0mget_lastfunction_header\u001b[0m\u001b[0;34m(\u001b[0m\u001b[0mself\u001b[0m\u001b[0;34m,\u001b[0m \u001b[0mheader\u001b[0m\u001b[0;34m,\u001b[0m \u001b[0mdefault_return_value\u001b[0m\u001b[0;34m=\u001b[0m\u001b[0;32mNone\u001b[0m\u001b[0;34m)\u001b[0m\u001b[0;34m:\u001b[0m\u001b[0;34m\u001b[0m\u001b[0m\n",
      "\u001b[0;32m/Users/vincentdavis/anaconda/envs/py35/lib/python3.5/site-packages/twython/api.py\u001b[0m in \u001b[0;36mrequest\u001b[0;34m(self, endpoint, method, params, version)\u001b[0m\n\u001b[1;32m    257\u001b[0m \u001b[0;34m\u001b[0m\u001b[0m\n\u001b[1;32m    258\u001b[0m         content = self._request(url, method=method, params=params,\n\u001b[0;32m--> 259\u001b[0;31m                                 api_call=url)\n\u001b[0m\u001b[1;32m    260\u001b[0m \u001b[0;34m\u001b[0m\u001b[0m\n\u001b[1;32m    261\u001b[0m         \u001b[0;32mreturn\u001b[0m \u001b[0mcontent\u001b[0m\u001b[0;34m\u001b[0m\u001b[0m\n",
      "\u001b[0;32m/Users/vincentdavis/anaconda/envs/py35/lib/python3.5/site-packages/twython/api.py\u001b[0m in \u001b[0;36m_request\u001b[0;34m(self, url, method, params, api_call)\u001b[0m\n\u001b[1;32m    196\u001b[0m                 \u001b[0merror_message\u001b[0m\u001b[0;34m,\u001b[0m\u001b[0;34m\u001b[0m\u001b[0m\n\u001b[1;32m    197\u001b[0m                 \u001b[0merror_code\u001b[0m\u001b[0;34m=\u001b[0m\u001b[0mresponse\u001b[0m\u001b[0;34m.\u001b[0m\u001b[0mstatus_code\u001b[0m\u001b[0;34m,\u001b[0m\u001b[0;34m\u001b[0m\u001b[0m\n\u001b[0;32m--> 198\u001b[0;31m                 retry_after=response.headers.get('X-Rate-Limit-Reset'))\n\u001b[0m\u001b[1;32m    199\u001b[0m \u001b[0;34m\u001b[0m\u001b[0m\n\u001b[1;32m    200\u001b[0m         \u001b[0;32mtry\u001b[0m\u001b[0;34m:\u001b[0m\u001b[0;34m\u001b[0m\u001b[0m\n",
      "\u001b[0;31mTwythonError\u001b[0m: Twitter API returned a 403 (Forbidden), Status is over 140 characters."
     ]
    }
   ],
   "source": [
    "%reload_ext autoreload\n",
    "%autoreload 2\n",
    "\n",
    "import configparser\n",
    "from key_tools import get_public_key, message_compress\n",
    "from messaging import send_status_update\n",
    "import elgamal\n",
    "from datetime import datetime as d\n",
    "from twython import Twython\n",
    "\n",
    "# for this example I have the Twitter oAuth data stored in user_data.ini. \n",
    "config = configparser.ConfigParser()\n",
    "config.read('Tests/user_data.ini')\n",
    "consumer_key = config['HeteroT1']['consumer_key']\n",
    "consumer_sec = config['HeteroT1']['consumer_sec']\n",
    "access_tok = config['HeteroT1']['access_tok']\n",
    "access_token_sec = config['HeteroT1']['access_token_sec']\n",
    "\n",
    "# The twitter user 'HeteroT1' is going to be Bob and 'HeteroT2 is Alice'\n",
    "\n",
    "message = \"This is a test and the time is 1\"\n",
    "\n",
    "# As an example if you read the Private Key values and recreat a elgamal object\n",
    "Bob_piv = elgamal.PrivateKey(p=Bob_key_pair['PrivateKey'][0],\n",
    "                      g=Bob_key_pair['PrivateKey'][1], \n",
    "                      x=Bob_key_pair['PrivateKey'][2],\n",
    "                      iNumBits=Bob_key_pair['PrivateKey'][3])\n",
    "\n",
    "def send_status_update(consumer_key, consumer_sec, access_tok, access_token_sec, message, reciever, Bob_piv):\n",
    "    twitter = Twython(consumer_key, consumer_sec, access_tok, access_token_sec)\n",
    "    reciever_public_key = get_public_key(twitter, reciever)[0]\n",
    "    ciphertext = elgamal.encrypt(reciever_public_key, message)\n",
    "    print(\"message --\"+ciphertext+\"--\")\n",
    "    compressed = message_compress(ciphertext)\n",
    "    print(\"Compressed is --\"+compressed)\n",
    "    twitter.update_status(status=compressed)\n",
    "    print(\"message sent \")\n",
    "    \n",
    "\n",
    "send_status_update(consumer_key, consumer_sec, access_tok, access_token_sec, message, 'heterot1', Bob_piv)"
   ]
  },
  {
   "cell_type": "code",
   "execution_count": null,
   "metadata": {
    "collapsed": true
   },
   "outputs": [],
   "source": []
  }
 ],
 "metadata": {
  "kernelspec": {
   "display_name": "Python 3",
   "language": "python",
   "name": "python3"
  },
  "language_info": {
   "codemirror_mode": {
    "name": "ipython",
    "version": 3
   },
   "file_extension": ".py",
   "mimetype": "text/x-python",
   "name": "python",
   "nbconvert_exporter": "python",
   "pygments_lexer": "ipython3",
   "version": "3.5.1"
  }
 },
 "nbformat": 4,
 "nbformat_minor": 0
}
