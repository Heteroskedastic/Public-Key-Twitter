{
 "cells": [
  {
   "cell_type": "markdown",
   "metadata": {},
   "source": [
    "# Send Encrypted messages via twitter\n",
    "\n",
    "Public-key, asymmetric security.\n",
    "\n",
    "You need to setup Twitter OAuth 1.0a and get a;\n",
    "\n",
    "Consumer key, Consumer secret, access_tok and access_token_sec\n",
    "\n",
    "https://dev.twitter.com/oauth/application-only"
   ]
  },
  {
   "cell_type": "markdown",
   "metadata": {},
   "source": [
    "* Getting Setup:"
   ]
  },
  {
   "cell_type": "code",
   "execution_count": 1,
   "metadata": {
    "collapsed": false
   },
   "outputs": [],
   "source": [
    "import key_tools as k\n",
    "# First we need to make a Public, Private key pair, this can be slow\n",
    "Bob_key_pair = k.make_key_pair()\n",
    "Alice_key_pair = k.make_key_pair()"
   ]
  },
  {
   "cell_type": "code",
   "execution_count": 8,
   "metadata": {
    "collapsed": false
   },
   "outputs": [
    {
     "name": "stdout",
     "output_type": "stream",
     "text": [
      "|TPK|àŬìɋɪàӒĹΒƘƀģϦīȔÄȚĒǤʈǒѕŏӍȘǬ|iŬѶͲɀѧȎHĆЌϜбǆϤΥЬӭԈвԎêȌƺrƹǼ|vӼŕDʡпxԙǒќŤBԷώȈǉΔʥЮȑЄʉʇՅúԼ|ƍ\n",
      "|TPK|ñʍǱԓùЊԦƛӿγȫŻȺωΛÀӢСɁţӶĂԚǗԆŀ|fəĹΥEΥћҝGԗďӝӬǍΔɸȁŔĹЃՀѐFӭɏǒ|yǝӡаǧǣнщƠŅoӱԷԢŦǢѧƌϿɕφèϲӼǛʈ|ƍ\n",
      "\n",
      "Bob's Private key (84223096437468084866172556267243150639158382057388133335498317749194861386343, 34223782539426767376007121676629713307637574708893920714926094374301043300358, 36597898549714642588299776212902282070274101224256506859107366708582775312063, 256)\n",
      "\n",
      "Alice's Private key (101503348931108674950270911588405238420610565053882697427214902117938322918179, 31451172574004574755813006935130877892312558482363199172667975744005893441317, 8482384606526794470468667614980882232241861582746123080705368969058877898571, 256)\n"
     ]
    }
   ],
   "source": [
    "# Bob would add this key to the end of his twitter description (profile). Bob needs this posted to be able to recieve a message.\n",
    "print(Bob_key_pair['PublicKey'])\n",
    "\n",
    "# Alice needs to do the same with her public key\n",
    "print(Alice_key_pair['PublicKey'] + '\\n')\n",
    "\n",
    "# Bob and Alice might want to save there private keys to a file or store them somewhere safe. \n",
    "# The keys as a set of 3 long integers and a bit value\n",
    "print(\"Bob's Private key \" + str(Bob_key_pair['PrivateKey']) + '\\n')\n",
    "print(\"Alice's Private key \" + str(Alice_key_pair['PrivateKey']))\n"
   ]
  },
  {
   "cell_type": "markdown",
   "metadata": {},
   "source": [
    "* Sending a message\n",
    "\n",
    "Alice sends a message to Bob"
   ]
  },
  {
   "cell_type": "code",
   "execution_count": 13,
   "metadata": {
    "collapsed": false
   },
   "outputs": [],
   "source": [
    "import configparser\n",
    "from key_tools import get_public_key\n",
    "from messaging import send_status_update\n",
    "# for this example I have the Twitter oAuth data stored in user_data.ini. \n",
    "config = configparser.ConfigParser()\n",
    "config.read('Tests/user_data.ini')\n",
    "consumer_key = config['HeteroT1']['consumer_key']\n",
    "consumer_sec = config['HeteroT1']['consumer_sec']\n",
    "access_tok = config['HeteroT1']['access_tok']\n",
    "access_token_sec = config['HeteroT1']['access_token_sec']\n",
    "\n",
    "# The twitter user 'HeteroT1' is going to be Bob and 'HeteroT2 is Alice'\n",
    "\n",
    "# Alice needs to get Bobs Public key\n",
    "bob_pkey = get_public_key(consumer_key, consumer_sec, access_tok, access_token_sec, 'heterot1')\n",
    "\n",
    "# TODO Finish example.\n"
   ]
  }
 ],
 "metadata": {
  "kernelspec": {
   "display_name": "Python 3",
   "language": "python",
   "name": "python3"
  },
  "language_info": {
   "codemirror_mode": {
    "name": "ipython",
    "version": 3
   },
   "file_extension": ".py",
   "mimetype": "text/x-python",
   "name": "python",
   "nbconvert_exporter": "python",
   "pygments_lexer": "ipython3",
   "version": "3.5.0"
  }
 },
 "nbformat": 4,
 "nbformat_minor": 0
}
