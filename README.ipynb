{
 "cells": [
  {
   "cell_type": "markdown",
   "metadata": {},
   "source": [
    "[![Coverage Status](https://coveralls.io/repos/Heteroskedastic/Public-Key-Twitter/badge.svg?branch=master&service=github)](https://coveralls.io/github/Heteroskedastic/Public-Key-Twitter?branch=master)"
   ]
  },
  {
   "cell_type": "markdown",
   "metadata": {},
   "source": [
    "# Send Encrypted Messages\n",
    "## Using Public Key encryption\n",
    "## Via twitter\n",
    "\n",
    "Public-key, asymmetric security.\n",
    "\n",
    "You need to setup Twitter OAuth 1.0a and get a;\n",
    "\n",
    "Consumer key, Consumer secret, access_tok and access_token_sec\n",
    "\n",
    "https://dev.twitter.com/oauth/application-only"
   ]
  },
  {
   "cell_type": "markdown",
   "metadata": {},
   "source": [
    "### Getting Setup:"
   ]
  },
  {
   "cell_type": "code",
   "execution_count": 1,
   "metadata": {
    "collapsed": false
   },
   "outputs": [],
   "source": [
    "# First we need to make a Public, Private key pair. This can be slow\n",
    "from pktwitter.key_tools import make_key_pair\n",
    "Bob_key_pair = make_key_pair()\n",
    "Alice_key_pair = make_key_pair()"
   ]
  },
  {
   "cell_type": "markdown",
   "metadata": {},
   "source": [
    "Bob and Alice need to add their public key to the end of their twitter description (profile) so that others can send them messages.\n",
    "\n",
    "Check out https://twitter.com/HeteroT1 as an example."
   ]
  },
  {
   "cell_type": "code",
   "execution_count": null,
   "metadata": {
    "collapsed": false
   },
   "outputs": [],
   "source": [
    "print('Bob needs this posted to be able to recieve a message:\\n{}\\n'.format(Bob_key_pair['TwitterKey']))\n",
    "\n",
    "print('Alice needs to do the same with her public key:\\n{}\\n'.format(Alice_key_pair['TwitterKey']))\n",
    "\n",
    "# Bob and Alice might want to save there private keys to a file or store them somewhere safe. \n",
    "# The keys as a set of 3 long integers and a bit value\n",
    "print(\"Bob's Private key:\\n{}\\nBob's Public key:\\n{}\\n\"\n",
    "      .format(Bob_key_pair['PrivateKey'],\n",
    "              Bob_key_pair['PublicKey']))\n",
    "print(\"Alice's Private key:\\n{}\\nAlice's Public Key:\\n{}\\n\"\n",
    "      .format(Alice_key_pair['PrivateKey'],\n",
    "              Alice_key_pair['PublicKey']))"
   ]
  },
  {
   "cell_type": "markdown",
   "metadata": {},
   "source": [
    "### Twitter API key\n",
    "You need a twitter api key. I load a set below you need your own. Here are instructios showing how to.\n",
    "https://themepacific.com/how-to-generate-api-key-consumer-token-access-key-for-twitter-oauth/994/"
   ]
  },
  {
   "cell_type": "code",
   "execution_count": null,
   "metadata": {
    "collapsed": false
   },
   "outputs": [],
   "source": [
    "import configparser\n",
    "config = configparser.ConfigParser()\n",
    "config.read('pktwitter/tests/user_data.ini')\n",
    "consumer_key = config['HeteroT1']['consumer_key']\n",
    "consumer_sec = config['HeteroT1']['consumer_sec']\n",
    "access_tok = config['HeteroT1']['access_tok']\n",
    "access_token_sec = config['HeteroT1']['access_token_sec']"
   ]
  },
  {
   "cell_type": "markdown",
   "metadata": {},
   "source": [
    "First we need our twitter connection object."
   ]
  },
  {
   "cell_type": "code",
   "execution_count": null,
   "metadata": {
    "collapsed": false
   },
   "outputs": [],
   "source": [
    "from twython import Twython\n",
    "bobs_twitter = Twython(consumer_key, consumer_sec, access_tok, access_token_sec)"
   ]
  },
  {
   "cell_type": "markdown",
   "metadata": {},
   "source": [
    "## Sending a message\n",
    "### Get Public Key\n",
    "If Bob wants to send a message to Alice he only needs Alice's public key. Lets get that. (we are using the twitter account \"HeteroT2\" as Alice)\n",
    "The key is compressed so we need to convert it to a key that can be used by our elgamal implementation."
   ]
  },
  {
   "cell_type": "code",
   "execution_count": null,
   "metadata": {
    "collapsed": false
   },
   "outputs": [],
   "source": [
    "from pktwitter.key_tools import get_public_key, assemble_publickey\n",
    "Alice = 'HeteroT2'\n",
    "alice_pub_comp = get_public_key(bobs_twitter, Alice)\n",
    "print(\"Alice's cmpressed public key is: \\n{}\".format(alice_pub_comp))\n",
    "print(\"You can see this on twitter at: https://twitter.com/heteroT2\")\n",
    "\n",
    "alice_pub = assemble_publickey(alice_pub_comp)\n",
    "print(\"\\nThe publickey used by elgamal is made using assemble_publickey()\")\n",
    "print(\"The public key object is alice_pub: {}\".format(alice_pub))\n",
    "print(\"The public key has the vlaues\\np: {}\\ng: {}\\nh: {}\\niNumBits: {}\".format(alice_pub.p, alice_pub.g, alice_pub.h, alice_pub.iNumBits))"
   ]
  },
  {
   "cell_type": "markdown",
   "metadata": {
    "collapsed": true
   },
   "source": [
    "## Encrypting the message\n",
    "The message gets long when it is encrypted so you can't send 140 characters."
   ]
  },
  {
   "cell_type": "code",
   "execution_count": null,
   "metadata": {
    "collapsed": false
   },
   "outputs": [],
   "source": [
    "from pktwitter.messaging import encrypt_message\n",
    "plaintext = \"Hello Twitter\"\n",
    "cyphertext = encrypt_message(plaintext, alice_pub)\n",
    "print(\"The cypertext is:\\n{}\".format(cyphertext))"
   ]
  },
  {
   "cell_type": "markdown",
   "metadata": {},
   "source": [
    "## Sending a message\n",
    "You may send as a direct message or as a status update. While the direct message route has the advantage of the recepient knowing the message is for them, and the data contained in the message may only be seen by the recepient, it also allows others to observe the metadata that there is direct interaction between the sender and recepient. With a public status update, there is no metadata with regards to whom the message is for. The recepient has to be expecting the message or just randomly try to decrypt messages. "
   ]
  },
  {
   "cell_type": "code",
   "execution_count": null,
   "metadata": {
    "collapsed": false
   },
   "outputs": [],
   "source": [
    "from pktwitter.messaging import send_direct_messages, send_status_update\n",
    "from twython import Twython\n",
    "\n",
    "bobs_twitter = Twython(consumer_key, consumer_sec, access_tok, access_token_sec)\n",
    "\n",
    "send_direct_messages(bobs_twitter, 'HeteroT2', cyphertext)\n",
    "\n",
    "send_status_update(bobs_twitter, cyphertext)"
   ]
  },
  {
   "cell_type": "markdown",
   "metadata": {},
   "source": [
    "## Reading a message\n",
    "The simplest way to decrypt a messages is to copy the message from twitter.\n",
    "Alica has stored her private key, this could be a ini file of just a text file."
   ]
  },
  {
   "cell_type": "code",
   "execution_count": null,
   "metadata": {
    "collapsed": false
   },
   "outputs": [],
   "source": [
    "from pktwitter.key_tools import assemble_privatekey\n",
    "from pktwitter.messaging import decrypt_message\n",
    "\n",
    "twitter_cyphertext = \"hɃՋӕɨġȺͻѼҡɯѦiФԒʘQEÍЀђcƬҺϐӇ|WʨÅƷɠйάԶΈťӃıӞЍȟɗРҮђϲİӗĜƈŧβ\"\n",
    "\n",
    "alice_key_file = (64920886194952987256412246312819798284641846100168300883020957925738043123223,\n",
    "                  40286097406928106390665231019035371289374310946194041291156901633994826301988,\n",
    "                  12451816743310384350839455290582814769468821404604129753069361124628871636399,\n",
    "                  256)\n",
    "\n",
    "alice_private = assemble_privatekey(alice_key_file)\n",
    "\n",
    "decryptedtext = decrypt_message(alice_private, twitter_cyphertext)\n",
    "print(\"The decrypted text is:\\n{}\".format(decryptedtext))"
   ]
  },
  {
   "cell_type": "code",
   "execution_count": null,
   "metadata": {
    "collapsed": false
   },
   "outputs": [],
   "source": [
    "from pktwitter.key_tools import key_compress\n",
    "piv = (64920886194952987256412246312819798284641846100168300883020957925738043123223,\n",
    "                         40286097406928106390665231019035371289374310946194041291156901633994826301988,\n",
    "                         26411613147959710735752662179675054173684751574803940945905190516099282103410,\n",
    "                         256\n",
    "                         )\n",
    "'|TPK|' + '|'.join(key_compress(n) for n in priv)"
   ]
  },
  {
   "cell_type": "code",
   "execution_count": null,
   "metadata": {
    "collapsed": true
   },
   "outputs": [],
   "source": [
    "|TPK|ËԈӦŏԨՌƍȲƃǍңҎƩϨҾðĵƹӣUԭԍъrĈŬ|oƫíȬԐöȜЁŴTjȉƮȌǊԢŏpưĩӵϠՓҪƺՍ|aȱόĠԯЮчјϾŀЋÁĺДїΥғԜԡӹŋʛïƧóȰ|ƍ"
   ]
  },
  {
   "cell_type": "markdown",
   "metadata": {},
   "source": []
  },
  {
   "cell_type": "code",
   "execution_count": null,
   "metadata": {
    "collapsed": true
   },
   "outputs": [],
   "source": []
  }
 ],
 "metadata": {
  "kernelspec": {
   "display_name": "Python 3",
   "language": "python",
   "name": "python3"
  },
  "language_info": {
   "codemirror_mode": {
    "name": "ipython",
    "version": 3
   },
   "file_extension": ".py",
   "mimetype": "text/x-python",
   "name": "python",
   "nbconvert_exporter": "python",
   "pygments_lexer": "ipython3",
   "version": "3.5.1"
  }
 },
 "nbformat": 4,
 "nbformat_minor": 0
}
