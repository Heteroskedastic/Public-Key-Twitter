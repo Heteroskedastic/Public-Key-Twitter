{
 "cells": [
  {
   "cell_type": "markdown",
   "metadata": {},
   "source": [
    "[![Coverage Status](https://coveralls.io/repos/Heteroskedastic/Public-Key-Twitter/badge.svg?branch=master&service=github)](https://coveralls.io/github/Heteroskedastic/Public-Key-Twitter?branch=master)"
   ]
  },
  {
   "cell_type": "markdown",
   "metadata": {},
   "source": [
    "# Send Encrypted Messages\n",
    "## Using Public Key encryption\n",
    "## Via twitter\n",
    "\n",
    "Public-key, asymmetric security.\n",
    "\n",
    "You need to setup Twitter OAuth 1.0a and get a;\n",
    "\n",
    "Consumer key, Consumer secret, access_tok and access_token_sec\n",
    "\n",
    "https://dev.twitter.com/oauth/application-only"
   ]
  },
  {
   "cell_type": "markdown",
   "metadata": {},
   "source": [
    "### Getting Setup:"
   ]
  },
  {
   "cell_type": "code",
   "execution_count": 1,
   "metadata": {
    "collapsed": false
   },
   "outputs": [],
   "source": [
    "# First we need to make a Public, Private key pair. This can be slow\n",
    "from pktwitter.key_tools import make_key_pair\n",
    "Bob_key_pair = make_key_pair()\n",
    "Alice_key_pair = make_key_pair()"
   ]
  },
  {
   "cell_type": "markdown",
   "metadata": {},
   "source": [
    "Bob and Alice need to add their public key to the end of their twitter description (profile) so that others can send them messages.\n",
    "\n",
    "Check out https://twitter.com/HeteroT1 as an example."
   ]
  },
  {
   "cell_type": "code",
   "execution_count": 3,
   "metadata": {
    "collapsed": false
   },
   "outputs": [
    {
     "name": "stdout",
     "output_type": "stream",
     "text": [
      "Bob needs this posted to be able to recieve a message:\n",
      "|TPK|ÞKϨႴțʄƦʛѦƋyΡcѐΉȬႴƝɪʬҜáΧûႴɼ|xүķϔϮӚäɨշΜΥωѱႯöɾǐTʨѬļƈʂӟḃҙ|ÂДĠŞœȯθΠႱӧυƆǷΏԈǎkμՑțʄƅȘլբХ|Ƌ\n",
      "\n",
      "Alice needs to do the same with her public key:\n",
      "|TPK|óƄƊՆΥΓԼԶĸȇɱաӛΗųʒƵίħЅՇƒӬyϐÝ|SႼҊժϛѪIϓɠնȒãϡʄŲƱӨՄʔħһȢŪϫσǑ|òӹքʣŇႭӨǧšḂҪҠϘľӖóδҤʢկWAӧҩҧΈ|Ƌ\n",
      "\n",
      "Bob's Private key:\n",
      "{'x': 27657403471585871094465890444953810827012742597176855642812145774287513088666, 'iNumBits': 256, 'g': 49783172582608825090439931528536572729963108461317019503724177253465830989761, 'p': 84010602968391467283490718256050533028696511407968274441507764087538112968459}\n",
      "Bob's Public key:\n",
      "{'h': 57636149211200410555532965838568251355515863315036559903391467250388920910653, 'iNumBits': 256, 'g': 49783172582608825090439931528536572729963108461317019503724177253465830989761, 'p': 84010602968391467283490718256050533028696511407968274441507764087538112968459}\n",
      "\n",
      "Alice's Private key:\n",
      "{'x': 5746331774452459581422677973318830191535263863490374657880190810551702882159, 'iNumBits': 256, 'g': 18976746918589722008581431930382089595467231294839890483156795397223605566318, 'p': 105249255892536519882876173371448909826523232481298546156621893263843050578083}\n",
      "Alice's Public Key:\n",
      "{'h': 104854944498188961839340214988778768586179821105551772497923022000838777775510, 'iNumBits': 256, 'g': 18976746918589722008581431930382089595467231294839890483156795397223605566318, 'p': 105249255892536519882876173371448909826523232481298546156621893263843050578083}\n",
      "\n"
     ]
    }
   ],
   "source": [
    "print('Bob needs this posted to be able to recieve a message:\\n{}\\n'.format(Bob_key_pair['TwitterKey']))\n",
    "\n",
    "print('Alice needs to do the same with her public key:\\n{}\\n'.format(Alice_key_pair['TwitterKey']))\n",
    "\n",
    "# Bob and Alice might want to save there private keys to a file or store them somewhere safe. \n",
    "# The keys as a set of 3 long integers and a bit value\n",
    "print(\"Bob's Private key:\\n{}\\nBob's Public key:\\n{}\\n\"\n",
    "      .format(Bob_key_pair['PrivateKey'],\n",
    "              Bob_key_pair['PublicKey']))\n",
    "print(\"Alice's Private key:\\n{}\\nAlice's Public Key:\\n{}\\n\"\n",
    "      .format(Alice_key_pair['PrivateKey'],\n",
    "              Alice_key_pair['PublicKey']))"
   ]
  },
  {
   "cell_type": "markdown",
   "metadata": {},
   "source": [
    "### Twitter API key\n",
    "You need a twitter api key. I load a set below you need your own. Here are instructios showing how to.\n",
    "https://themepacific.com/how-to-generate-api-key-consumer-token-access-key-for-twitter-oauth/994/"
   ]
  },
  {
   "cell_type": "code",
   "execution_count": 4,
   "metadata": {
    "collapsed": false
   },
   "outputs": [],
   "source": [
    "import configparser\n",
    "config = configparser.ConfigParser()\n",
    "config.read('pktwitter/tests/user_data.ini')\n",
    "consumer_key = config['HeteroT1']['consumer_key']\n",
    "consumer_sec = config['HeteroT1']['consumer_sec']\n",
    "access_tok = config['HeteroT1']['access_tok']\n",
    "access_token_sec = config['HeteroT1']['access_token_sec']"
   ]
  },
  {
   "cell_type": "markdown",
   "metadata": {},
   "source": [
    "First we need our twitter connection object."
   ]
  },
  {
   "cell_type": "code",
   "execution_count": 7,
   "metadata": {
    "collapsed": false
   },
   "outputs": [],
   "source": [
    "from twython import Twython\n",
    "bobs_twitter = Twython(consumer_key, consumer_sec, access_tok, access_token_sec)"
   ]
  },
  {
   "cell_type": "markdown",
   "metadata": {},
   "source": [
    "## Sending a message\n",
    "### Get Public Key\n",
    "If Bob wants to send a message to Alice he only needs Alice's public key. Lets get that. (we are using the twitter account \"HeteroT2\" as Alice)\n",
    "The key is compressed so we need to convert it to a key that can be used by our elgamal implementation."
   ]
  },
  {
   "cell_type": "code",
   "execution_count": 8,
   "metadata": {
    "collapsed": false
   },
   "outputs": [
    {
     "name": "stdout",
     "output_type": "stream",
     "text": [
      "Alice's cmpressed public key is: \n",
      "|TPK|äԵոêӔεӭұιϲϚϳԳӤίƝǔՇϢԹႪՍѹěչž|kʓՒվӛɠaUηĎŚӰՑΫQβԱӭԏİΣʤӎʚοĔ|PĐWɽɣЎтѲҼմǖȒÄɱĠΆůąʇHАўœƝʜǑ|Ƌ\n",
      "You can see this on twitter at: https://twitter.com/heteroT2\n",
      "\n",
      "The publickey used by elgamal is made using assemble_publickey()\n",
      "The public key object is alice_pub: <pktwitter.elgamal2.PublicKey object at 0x1069b3438>\n",
      "The public key has the vlaues\n",
      "p: 90875932096819552844785556612588613873835546274321893596879958899737144933243\n",
      "g: 36482904938826431026020554131207847903542016549871844870165534499814489562137\n",
      "h: 15133022460434630682730796928323382059448149509228122470007632710200274491318\n",
      "iNumBits: 256\n"
     ]
    }
   ],
   "source": [
    "from pktwitter.key_tools import get_public_key, assemble_publickey\n",
    "Alice = 'HeteroT2'\n",
    "alice_pub_comp = get_public_key(bobs_twitter, Alice)\n",
    "print(\"Alice's cmpressed public key is: \\n{}\".format(alice_pub_comp))\n",
    "print(\"You can see this on twitter at: https://twitter.com/heteroT2\")\n",
    "\n",
    "alice_pub = assemble_publickey(alice_pub_comp)\n",
    "print(\"\\nThe publickey used by elgamal is made using assemble_publickey()\")\n",
    "print(\"The public key object is alice_pub: {}\".format(alice_pub))\n",
    "print(\"The public key has the vlaues\\np: {}\\ng: {}\\nh: {}\\niNumBits: {}\".format(alice_pub.p, alice_pub.g, alice_pub.h, alice_pub.iNumBits))"
   ]
  },
  {
   "cell_type": "markdown",
   "metadata": {
    "collapsed": true
   },
   "source": [
    "## Encrypting the message\n",
    "The message gets long when it is encrypted so you can't send 140 characters."
   ]
  },
  {
   "cell_type": "code",
   "execution_count": 9,
   "metadata": {
    "collapsed": false
   },
   "outputs": [
    {
     "name": "stdout",
     "output_type": "stream",
     "text": [
      "The cypertext is:\n",
      "µƊկтǡեȂYÜŻüѕԂѮɛեåϛŨӓƿϫɦԇўƜ|GZѣЮЍȘѭCZπэȍȰѯԴҌϝҎәűҨΜΙǎႠұ\n"
     ]
    }
   ],
   "source": [
    "from pktwitter.messaging import encrypt_message\n",
    "plaintext = \"Hello Twitter\"\n",
    "cyphertext = encrypt_message(plaintext, alice_pub)\n",
    "print(\"The cypertext is:\\n{}\".format(cyphertext))"
   ]
  },
  {
   "cell_type": "markdown",
   "metadata": {},
   "source": [
    "## Sending a message\n",
    "You may send as a direct message or as a status update. While the direct message route has the advantage of the recepient knowing the message is for them, and the data contained in the message may only be seen by the recepient, it also allows others to observe the metadata that there is direct interaction between the sender and recepient. With a public status update, there is no metadata with regards to whom the message is for. The recepient has to be expecting the message or just randomly try to decrypt messages. "
   ]
  },
  {
   "cell_type": "code",
   "execution_count": 10,
   "metadata": {
    "collapsed": false
   },
   "outputs": [
    {
     "name": "stdout",
     "output_type": "stream",
     "text": [
      "message sent \n",
      "message sent \n",
      "message -  µƊկтǡեȂYÜŻüѕԂѮɛեåϛŨӓƿϫɦԇўƜ|GZѣЮЍȘѭCZπэȍȰѯԴҌϝҎәűҨΜΙǎႠұ\n"
     ]
    }
   ],
   "source": [
    "from pktwitter.messaging import send_direct_messages, send_status_update\n",
    "from twython import Twython\n",
    "\n",
    "bobs_twitter = Twython(consumer_key, consumer_sec, access_tok, access_token_sec)\n",
    "\n",
    "send_direct_messages(bobs_twitter, 'HeteroT2', cyphertext)\n",
    "\n",
    "send_status_update(bobs_twitter, cyphertext)"
   ]
  },
  {
   "cell_type": "markdown",
   "metadata": {},
   "source": [
    "## Reading a message\n",
    "The simplest way to decrypt a messages is to copy the message from twitter.\n",
    "Alica has stored her private key, this could be a ini file of just a text file."
   ]
  },
  {
   "cell_type": "code",
   "execution_count": 13,
   "metadata": {
    "collapsed": false
   },
   "outputs": [
    {
     "name": "stdout",
     "output_type": "stream",
     "text": [
      "The decrypted text is:\n",
      "Hello Twitter\n"
     ]
    }
   ],
   "source": [
    "from pktwitter.key_tools import assemble_privatekey\n",
    "from pktwitter.messaging import decrypt_message\n",
    "\n",
    "twitter_cyphertext = \"µƊկтǡեȂYÜŻüѕԂѮɛեåϛŨӓƿϫɦԇўƜ|GZѣЮЍȘѭCZπэȍȰѯԴҌϝҎәűҨΜΙǎႠұ\"\n",
    "\n",
    "alice_key_file = {'g': 36482904938826431026020554131207847903542016549871844870165534499814489562137,\n",
    "                  'p': 90875932096819552844785556612588613873835546274321893596879958899737144933243,\n",
    "                  'x': 7944233631008039187005070093408286827218413351278143022878301217995040934857,\n",
    "                  'iNumBits': 256}\n",
    "\n",
    "alice_private = assemble_privatekey((alice_key_file['p'],\n",
    "                                     alice_key_file['g'],\n",
    "                                     alice_key_file['x'],\n",
    "                                     alice_key_file['iNumBits']))\n",
    "\n",
    "decryptedtext = decrypt_message(alice_private, twitter_cyphertext)\n",
    "print(\"The decrypted text is:\\n{}\".format(decryptedtext))"
   ]
  }
 ],
 "metadata": {
  "kernelspec": {
   "display_name": "Python 3",
   "language": "python",
   "name": "python3"
  },
  "language_info": {
   "codemirror_mode": {
    "name": "ipython",
    "version": 3
   },
   "file_extension": ".py",
   "mimetype": "text/x-python",
   "name": "python",
   "nbconvert_exporter": "python",
   "pygments_lexer": "ipython3",
   "version": "3.5.1"
  }
 },
 "nbformat": 4,
 "nbformat_minor": 0
}
